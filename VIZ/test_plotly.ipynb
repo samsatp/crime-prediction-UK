{
 "cells": [
  {
   "cell_type": "markdown",
   "metadata": {},
   "source": [
    "# 1. Try Map"
   ]
  },
  {
   "cell_type": "code",
   "execution_count": null,
   "metadata": {},
   "outputs": [],
   "source": [
    "import plotly.graph_objects as go\n",
    "import json\n",
    "\n",
    "with open('coords.json', 'r') as f:\n",
    "    coords = json.load(f) \n",
    "import pandas as pd\n",
    "import plotly.express as px\n",
    "\n",
    "df = pd.read_csv('../EDA/df_preprocessed.csv', parse_dates=['month'])\n",
    "df.head()"
   ]
  },
  {
   "cell_type": "code",
   "execution_count": null,
   "metadata": {},
   "outputs": [],
   "source": [
    "def rgb(value, minimum=0, maximum=1):\n",
    "    minimum, maximum = float(minimum), float(maximum)\n",
    "    ratio = 2 * (value-minimum) / (maximum - minimum)\n",
    "    b = int(max(0, 255*(1 - ratio)))\n",
    "    r = int(max(0, 255*(ratio - 1)))\n",
    "    g = 255 - b - r\n",
    "    return r, g, b"
   ]
  },
  {
   "cell_type": "code",
   "execution_count": null,
   "metadata": {},
   "outputs": [],
   "source": [
    "import numpy as np\n",
    "fig = go.Figure()\n",
    "\n",
    "for i, (force, coord) in enumerate(coords.items()):\n",
    "    coord = np.array(coord)\n",
    "    r,g,b = rgb(np.random.random())\n",
    "    fig.add_trace(\n",
    "        go.Scatter(\n",
    "            x=coord[:,1], \n",
    "            y=coord[:,0],\n",
    "            name = force,\n",
    "            showlegend = False,\n",
    "            fillcolor=f'rgb({r},{g},{b})',\n",
    "            mode='lines',\n",
    "            marker=dict(\n",
    "                size=0,\n",
    "                line = dict(width=0, color='red')\n",
    "                )\n",
    "            )\n",
    "        )\n",
    "\n",
    "fig.update_layout(\n",
    "    showlegend=False,\n",
    "    autosize=False,\n",
    "    width=500,\n",
    "    height=700,\n",
    "    margin = {'l':0, 'r':0, 'b':0, 't':0},\n",
    ")\n",
    "fig.show()"
   ]
  },
  {
   "cell_type": "code",
   "execution_count": null,
   "metadata": {},
   "outputs": [],
   "source": [
    "idx = []\n",
    "geojsons = {\n",
    "\"type\": \"FeatureCollection\",\n",
    "\"features\": []\n",
    "}\n",
    "for i, (force, coord) in enumerate(coords.items()):\n",
    "  idx.append(str(i))\n",
    "  geojsons[\"features\"].append(\n",
    "    {\n",
    "      \"type\": \"Feature\",\n",
    "      \"id\": str(i),\n",
    "      \"properties\": {},\n",
    "      \"geometry\": {\n",
    "        \"type\": \"Polygon\",\n",
    "        \"coordinates\": coord\n",
    "      }\n",
    "    }\n",
    "  )"
   ]
  },
  {
   "cell_type": "code",
   "execution_count": null,
   "metadata": {},
   "outputs": [],
   "source": [
    "import numpy as np\n",
    "\n",
    "df_dummy = pd.DataFrame({\n",
    "    'id': idx,\n",
    "    'number': [np.random.random() for _ in range(len(coords))]\n",
    "})\n",
    "df_dummy.head()"
   ]
  },
  {
   "cell_type": "code",
   "execution_count": null,
   "metadata": {},
   "outputs": [],
   "source": [
    "import matplotlib.pyplot as plt\n",
    "\n",
    "coord = list(coords.values())\n",
    "coord.append(coord[0]) #repeat the first point to create a 'closed loop'\n",
    "\n",
    "xs, ys = zip(*coord) #create lists of x and y values\n",
    "\n",
    "plt.figure()\n",
    "plt.plot(xs,ys) \n",
    "plt.show() # if you need..."
   ]
  },
  {
   "cell_type": "code",
   "execution_count": null,
   "metadata": {},
   "outputs": [],
   "source": []
  },
  {
   "cell_type": "code",
   "execution_count": null,
   "metadata": {},
   "outputs": [],
   "source": [
    "fig = go.Figure()\n",
    "\n",
    "for i, (force, coord) in enumerate(coords.items()):\n",
    "    lat, lon = [e[0] for e in coord], [e[1] for e in coord]\n",
    "    if i==0:\n",
    "\n",
    "        fig.add_trace(\n",
    "            go.Scattermapbox(\n",
    "                lat=lat, lon=lon,\n",
    "                fill = \"toself\",\n",
    "                mode='lines+markers',\n",
    "                marker=dict(\n",
    "                    size=0,\n",
    "                    showscale=True,\n",
    "                    colorscale=[\n",
    "                        [0, 'rgb(100,0,0)'],\n",
    "                        [1, 'rgb(0,156,0)']\n",
    "                        ],\n",
    "                    cmin=0,\n",
    "                    cmax=1\n",
    "                ),\n",
    "                name=force,\n",
    "                hovertemplate = f'Area: {force} <extra></extra>',\n",
    "                showlegend = False\n",
    "            ),\n",
    "            \n",
    "        )\n",
    "    else:\n",
    "        dummy_values = df[df.month.dt.year == 2020].safe_index_norm.values[i]\n",
    "        r,g,b = rgb(dummy_values)\n",
    "        fig.add_trace(\n",
    "            go.Scattermapbox(\n",
    "                lat=lat, lon=lon,\n",
    "                fill = \"toself\",\n",
    "                mode='lines',\n",
    "                line={'color': f'rgb({r},{g},{b})'},\n",
    "                name=force,\n",
    "                hovertemplate = f'Area: {force} <extra></extra>',\n",
    "                showlegend = False\n",
    "            ),\n",
    "            \n",
    "        )\n",
    "\n",
    "fig.update_layout(\n",
    "    margin = {'l':0, 'r':0, 'b':0, 't':0},\n",
    "    mapbox = {\n",
    "        'style': \"open-street-map\",\n",
    "        'center': {'lat': 52.8739609957, 'lon': -0.354840987388 },\n",
    "        'zoom': 4},\n",
    "    showlegend = False,\n",
    "    dragmode=False)\n",
    "\n",
    "fig.show()"
   ]
  },
  {
   "cell_type": "markdown",
   "metadata": {},
   "source": [
    "# 2. Try plots"
   ]
  },
  {
   "cell_type": "code",
   "execution_count": null,
   "metadata": {},
   "outputs": [],
   "source": [
    "import pandas as pd\n",
    "import plotly.express as px\n",
    "\n",
    "df = pd.read_csv('../EDA/df_preprocessed.csv', parse_dates=['month'])\n",
    "df.head()"
   ]
  },
  {
   "cell_type": "code",
   "execution_count": null,
   "metadata": {},
   "outputs": [],
   "source": [
    "def rgb(minimum, maximum, value):\n",
    "    minimum, maximum = float(minimum), float(maximum)\n",
    "    ratio = 2 * (value-minimum) / (maximum - minimum)\n",
    "    b = int(max(0, 255*(1 - ratio)))\n",
    "    r = int(max(0, 255*(ratio - 1)))\n",
    "    g = 255 - b - r\n",
    "    return r, g, b"
   ]
  },
  {
   "cell_type": "code",
   "execution_count": null,
   "metadata": {},
   "outputs": [],
   "source": [
    "rgb(0, 1, 0.4)"
   ]
  },
  {
   "cell_type": "code",
   "execution_count": null,
   "metadata": {},
   "outputs": [],
   "source": [
    "rgbs = [rgb(0, 1, e) for e in df.safe_index_norm.values]"
   ]
  },
  {
   "cell_type": "code",
   "execution_count": null,
   "metadata": {},
   "outputs": [],
   "source": [
    "df[df.month.dt.year == 2020].safe_index_norm"
   ]
  },
  {
   "cell_type": "code",
   "execution_count": null,
   "metadata": {},
   "outputs": [],
   "source": []
  }
 ],
 "metadata": {
  "kernelspec": {
   "display_name": "Python 3.10.7 ('crimeukvenv')",
   "language": "python",
   "name": "python3"
  },
  "language_info": {
   "codemirror_mode": {
    "name": "ipython",
    "version": 3
   },
   "file_extension": ".py",
   "mimetype": "text/x-python",
   "name": "python",
   "nbconvert_exporter": "python",
   "pygments_lexer": "ipython3",
   "version": "3.10.7"
  },
  "orig_nbformat": 4,
  "vscode": {
   "interpreter": {
    "hash": "a5400091bacddf3fea39c1e07268775b5522dda0146e90f714cb08c098a1c879"
   }
  }
 },
 "nbformat": 4,
 "nbformat_minor": 2
}
